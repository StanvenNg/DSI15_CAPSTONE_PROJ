{
 "cells": [
  {
   "cell_type": "code",
   "execution_count": 1,
   "metadata": {},
   "outputs": [
    {
     "name": "stdout",
     "output_type": "stream",
     "text": [
      "Num GPUs Available:  1\n"
     ]
    }
   ],
   "source": [
    "import tensorflow as tf\n",
    "print(\"Num GPUs Available: \", len(tf.config.experimental.list_physical_devices('GPU')))"
   ]
  },
  {
   "cell_type": "code",
   "execution_count": 2,
   "metadata": {},
   "outputs": [
    {
     "name": "stdout",
     "output_type": "stream",
     "text": [
      "2.1.0\n"
     ]
    }
   ],
   "source": [
    "print(tf.__version__)"
   ]
  },
  {
   "cell_type": "code",
   "execution_count": 3,
   "metadata": {},
   "outputs": [
    {
     "name": "stdout",
     "output_type": "stream",
     "text": [
      "[name: \"/device:CPU:0\"\n",
      "device_type: \"CPU\"\n",
      "memory_limit: 268435456\n",
      "locality {\n",
      "}\n",
      "incarnation: 7880824160899561856\n",
      ", name: \"/device:GPU:0\"\n",
      "device_type: \"GPU\"\n",
      "memory_limit: 6574135706\n",
      "locality {\n",
      "  bus_id: 1\n",
      "  links {\n",
      "  }\n",
      "}\n",
      "incarnation: 13624935038292623202\n",
      "physical_device_desc: \"device: 0, name: GeForce RTX 2080, pci bus id: 0000:01:00.0, compute capability: 7.5\"\n",
      "]\n"
     ]
    }
   ],
   "source": [
    "from tensorflow.python.client import device_lib\n",
    "print(device_lib.list_local_devices())"
   ]
  },
  {
   "cell_type": "code",
   "execution_count": 4,
   "metadata": {},
   "outputs": [
    {
     "name": "stderr",
     "output_type": "stream",
     "text": [
      "Using TensorFlow backend.\n"
     ]
    }
   ],
   "source": [
    "from PIL import Image\n",
    "\n",
    "from matplotlib import image\n",
    "from matplotlib import pyplot as plt\n",
    "from numpy import asarray\n",
    "import numpy as np\n",
    "import pandas as pd\n",
    "\n",
    "from sklearn.model_selection import train_test_split\n",
    "from keras.utils import np_utils\n",
    "from keras.models import Sequential\n",
    "from keras.layers import Dense, Dropout, Activation, Flatten\n",
    "from keras.layers import Conv2D, MaxPooling2D\n",
    "\n",
    "from os import listdir\n",
    "import os"
   ]
  },
  {
   "cell_type": "markdown",
   "metadata": {},
   "source": [
    "---\n",
    "## All Images"
   ]
  },
  {
   "cell_type": "code",
   "execution_count": 11,
   "metadata": {},
   "outputs": [
    {
     "name": "stdout",
     "output_type": "stream",
     "text": [
      "10759 10759\n"
     ]
    }
   ],
   "source": [
    "# load all images in a list\n",
    "X = list()\n",
    "y = list()\n",
    "\n",
    "for style in listdir('../processed'):\n",
    "    for filename in listdir('../processed/' + style):\n",
    "        # load image\n",
    "        img_data = image.imread('../processed/' + style + '/' + filename)\n",
    "        # convert pixel values in array to float\n",
    "        img_data.astype('float32') \n",
    "        # store loaded image\n",
    "        X.append(img_data/255.0) # divide by 255 to standardize values\n",
    "        \n",
    "        y.append(style)\n",
    "        \n",
    "print(len(X), len(y))"
   ]
  },
  {
   "cell_type": "code",
   "execution_count": 12,
   "metadata": {},
   "outputs": [
    {
     "data": {
      "text/plain": [
       "{'Contemporary': '0',\n",
       " 'Eclectic': '1',\n",
       " 'Industrial': '2',\n",
       " 'Minimalistic': '3',\n",
       " 'Modern': '4',\n",
       " 'Scandinavian': '5'}"
      ]
     },
     "execution_count": 12,
     "metadata": {},
     "output_type": "execute_result"
    }
   ],
   "source": [
    "# create a dictionary to contain mapping of values for y\n",
    "i = 0\n",
    "style_dict = dict()\n",
    "\n",
    "for style in np.unique(y):\n",
    "    style_dict[style] = f'{i}'\n",
    "    i += 1\n",
    "    \n",
    "\n",
    "style_dict"
   ]
  },
  {
   "cell_type": "code",
   "execution_count": 13,
   "metadata": {},
   "outputs": [],
   "source": [
    "# convert y into a series to apply mapping using dictionary 'style_dict'\n",
    "y = pd.Series(y)\n",
    "y = y.map(style_dict)\n",
    "\n",
    "# convert X and y to array\n",
    "X = np.array(X)\n",
    "y = np.array(y)"
   ]
  },
  {
   "cell_type": "markdown",
   "metadata": {},
   "source": [
    "## train test split"
   ]
  },
  {
   "cell_type": "code",
   "execution_count": 14,
   "metadata": {},
   "outputs": [],
   "source": [
    "# train test split, train data to be 80% of data\n",
    "X_train, X_test, y_train, y_test = train_test_split(X, y, stratify=y, shuffle=True, train_size=0.8)"
   ]
  },
  {
   "cell_type": "code",
   "execution_count": 15,
   "metadata": {},
   "outputs": [
    {
     "data": {
      "text/plain": [
       "(8607, 256, 256, 3)"
      ]
     },
     "execution_count": 15,
     "metadata": {},
     "output_type": "execute_result"
    }
   ],
   "source": [
    "X_train.shape"
   ]
  },
  {
   "cell_type": "code",
   "execution_count": 16,
   "metadata": {},
   "outputs": [
    {
     "data": {
      "text/plain": [
       "(2152, 256, 256, 3)"
      ]
     },
     "execution_count": 16,
     "metadata": {},
     "output_type": "execute_result"
    }
   ],
   "source": [
    "X_test.shape"
   ]
  },
  {
   "cell_type": "code",
   "execution_count": null,
   "metadata": {},
   "outputs": [],
   "source": []
  },
  {
   "cell_type": "code",
   "execution_count": 17,
   "metadata": {},
   "outputs": [],
   "source": [
    "# convert y values into categories\n",
    "y_train = np_utils.to_categorical(y_train)\n",
    "y_test = np_utils.to_categorical(y_test)"
   ]
  },
  {
   "cell_type": "markdown",
   "metadata": {},
   "source": [
    "# Modelling"
   ]
  },
  {
   "cell_type": "code",
   "execution_count": 18,
   "metadata": {},
   "outputs": [],
   "source": [
    "# instantiating model\n",
    "cnn_model = Sequential()\n",
    "\n",
    "# Add a convolutional layer.\n",
    "cnn_model.add(Conv2D(filters = 64,            # number of filters\n",
    "                     kernel_size = 3,        # height/width of filter\n",
    "                     activation='relu',      # activation function \n",
    "                     input_shape=(256,256,3))) # shape of input (image)\n",
    "                     \n",
    "cnn_model.add(MaxPooling2D(pool_size=(2,2))) # dimensions of region of pooling\n",
    "\n",
    "cnn_model.add(Conv2D(filters = 32,\n",
    "                     kernel_size=3,\n",
    "                     activation='relu'))                     \n",
    "                     \n",
    "cnn_model.add(MaxPooling2D(pool_size=(2,2)))\n",
    "\n",
    "cnn_model.add(Conv2D(filters = 16,\n",
    "                     kernel_size=3,\n",
    "                     activation='relu'))                     \n",
    "                     \n",
    "cnn_model.add(MaxPooling2D(pool_size=(2,2)))\n",
    "                     \n",
    "cnn_model.add(Flatten())\n",
    "                     \n",
    "# Add a densely-connected layer with 256 neurons.\n",
    "cnn_model.add(Dense(256, activation='relu'))\n",
    "\n",
    "# Let's try to avoid overfitting!\n",
    "cnn_model.add(Dropout(0.1))\n",
    "\n",
    "# Add a densely-connected layer with 128 neurons.\n",
    "cnn_model.add(Dense(128, activation='relu'))\n",
    "\n",
    "# Let's try to avoid overfitting!\n",
    "cnn_model.add(Dropout(0.1))\n",
    "\n",
    "# Add a densely-connected layer with 64 neurons.\n",
    "cnn_model.add(Dense(64, activation='relu'))\n",
    "\n",
    "# Let's try to avoid overfitting!\n",
    "cnn_model.add(Dropout(0.1))\n",
    "                     \n",
    "# Add a final layer with 6 neurons.\n",
    "cnn_model.add(Dense(6, activation='softmax'))"
   ]
  },
  {
   "cell_type": "markdown",
   "metadata": {},
   "source": [
    "- batch size max at 100. insufficient computing power"
   ]
  },
  {
   "cell_type": "code",
   "execution_count": 20,
   "metadata": {
    "scrolled": true
   },
   "outputs": [
    {
     "name": "stdout",
     "output_type": "stream",
     "text": [
      "Train on 8607 samples, validate on 2152 samples\n",
      "Epoch 1/30\n",
      "8607/8607 [==============================] - 62s 7ms/step - loss: 1.7245 - accuracy: 0.2447 - val_loss: 1.7024 - val_accuracy: 0.2500\n",
      "Epoch 2/30\n",
      "8607/8607 [==============================] - 71s 8ms/step - loss: 1.6700 - accuracy: 0.2781 - val_loss: 1.6914 - val_accuracy: 0.2551\n",
      "Epoch 3/30\n",
      "8607/8607 [==============================] - 75s 9ms/step - loss: 1.5738 - accuracy: 0.3322 - val_loss: 1.7517 - val_accuracy: 0.2328\n",
      "Epoch 4/30\n",
      "8607/8607 [==============================] - 74s 9ms/step - loss: 1.3485 - accuracy: 0.4623 - val_loss: 1.8975 - val_accuracy: 0.2282\n",
      "Epoch 5/30\n",
      "8607/8607 [==============================] - 64s 7ms/step - loss: 1.0315 - accuracy: 0.6083 - val_loss: 2.3098 - val_accuracy: 0.2110\n",
      "Epoch 6/30\n",
      "8607/8607 [==============================] - 66s 8ms/step - loss: 0.7538 - accuracy: 0.7331 - val_loss: 2.7183 - val_accuracy: 0.2026\n",
      "Epoch 7/30\n",
      "8607/8607 [==============================] - 70s 8ms/step - loss: 0.5754 - accuracy: 0.7970 - val_loss: 3.0670 - val_accuracy: 0.2003\n",
      "Epoch 8/30\n",
      "8607/8607 [==============================] - 73s 8ms/step - loss: 0.4546 - accuracy: 0.8294 - val_loss: 3.4508 - val_accuracy: 0.1952\n",
      "Epoch 9/30\n",
      "8607/8607 [==============================] - 99s 11ms/step - loss: 0.3769 - accuracy: 0.8476 - val_loss: 4.0137 - val_accuracy: 0.1905\n",
      "Epoch 10/30\n",
      "8607/8607 [==============================] - 72s 8ms/step - loss: 0.3228 - accuracy: 0.8537 - val_loss: 3.9858 - val_accuracy: 0.1877\n",
      "Epoch 11/30\n",
      "8607/8607 [==============================] - 63s 7ms/step - loss: 0.3075 - accuracy: 0.8615 - val_loss: 4.7465 - val_accuracy: 0.1831\n",
      "Epoch 12/30\n",
      "8607/8607 [==============================] - 55s 6ms/step - loss: 0.2531 - accuracy: 0.8688 - val_loss: 5.2038 - val_accuracy: 0.1928\n",
      "Epoch 13/30\n",
      "8607/8607 [==============================] - 58s 7ms/step - loss: 0.2423 - accuracy: 0.8736 - val_loss: 4.9681 - val_accuracy: 0.1952\n",
      "Epoch 14/30\n",
      "8607/8607 [==============================] - 66s 8ms/step - loss: 0.2240 - accuracy: 0.8723 - val_loss: 5.6845 - val_accuracy: 0.1882\n",
      "Epoch 15/30\n",
      "8607/8607 [==============================] - 70s 8ms/step - loss: 0.2225 - accuracy: 0.8739 - val_loss: 5.8169 - val_accuracy: 0.1947\n",
      "Epoch 16/30\n",
      "8607/8607 [==============================] - 74s 9ms/step - loss: 0.2177 - accuracy: 0.8721 - val_loss: 6.2252 - val_accuracy: 0.1822\n",
      "Epoch 17/30\n",
      "8607/8607 [==============================] - 61s 7ms/step - loss: 0.2102 - accuracy: 0.8781 - val_loss: 6.3849 - val_accuracy: 0.1849\n",
      "Epoch 18/30\n",
      "8607/8607 [==============================] - 57s 7ms/step - loss: 0.2149 - accuracy: 0.8763 - val_loss: 6.9039 - val_accuracy: 0.1928\n",
      "Epoch 19/30\n",
      "8607/8607 [==============================] - 53s 6ms/step - loss: 0.2069 - accuracy: 0.8802 - val_loss: 6.6540 - val_accuracy: 0.2003\n",
      "Epoch 20/30\n",
      "8607/8607 [==============================] - 83s 10ms/step - loss: 0.2025 - accuracy: 0.8721 - val_loss: 6.2115 - val_accuracy: 0.1938\n",
      "Epoch 21/30\n",
      "8607/8607 [==============================] - 77s 9ms/step - loss: 0.2089 - accuracy: 0.8756 - val_loss: 7.1369 - val_accuracy: 0.2012\n",
      "Epoch 22/30\n",
      "8607/8607 [==============================] - 77s 9ms/step - loss: 0.2222 - accuracy: 0.8792 - val_loss: 6.8788 - val_accuracy: 0.1831\n",
      "Epoch 23/30\n",
      "8607/8607 [==============================] - 71s 8ms/step - loss: 0.2018 - accuracy: 0.8751 - val_loss: 7.0271 - val_accuracy: 0.1914\n",
      "Epoch 24/30\n",
      "8607/8607 [==============================] - 68s 8ms/step - loss: 0.1964 - accuracy: 0.8801 - val_loss: 7.2584 - val_accuracy: 0.1966\n",
      "Epoch 25/30\n",
      "8607/8607 [==============================] - 67s 8ms/step - loss: 0.2016 - accuracy: 0.8778 - val_loss: 8.2433 - val_accuracy: 0.1896\n",
      "Epoch 26/30\n",
      "8607/8607 [==============================] - 57s 7ms/step - loss: 0.1879 - accuracy: 0.8814 - val_loss: 7.9477 - val_accuracy: 0.1868\n",
      "Epoch 27/30\n",
      "8607/8607 [==============================] - 67s 8ms/step - loss: 0.1847 - accuracy: 0.8827 - val_loss: 8.3298 - val_accuracy: 0.1873\n",
      "Epoch 28/30\n",
      "8607/8607 [==============================] - 59s 7ms/step - loss: 0.1906 - accuracy: 0.8816 - val_loss: 8.9833 - val_accuracy: 0.1924\n",
      "Epoch 29/30\n",
      "8607/8607 [==============================] - 62s 7ms/step - loss: 0.2050 - accuracy: 0.8780 - val_loss: 7.9539 - val_accuracy: 0.1980\n",
      "Epoch 30/30\n",
      "8607/8607 [==============================] - 65s 8ms/step - loss: 0.1954 - accuracy: 0.8792 - val_loss: 8.2321 - val_accuracy: 0.1998\n"
     ]
    }
   ],
   "source": [
    "# Compile model\n",
    "cnn_model.compile(loss='categorical_crossentropy',\n",
    "                  optimizer='adam',\n",
    "                  metrics=['accuracy'])\n",
    "\n",
    "# Fit model on training data\n",
    "history = cnn_model.fit(X_train,\n",
    "                        y_train,\n",
    "                        batch_size=50,\n",
    "                        validation_data=(X_test, y_test),\n",
    "                        epochs=30,\n",
    "                        verbose=1)"
   ]
  },
  {
   "cell_type": "code",
   "execution_count": 21,
   "metadata": {},
   "outputs": [
    {
     "data": {
      "image/png": "[encoded data removed]",
      "text/plain": [
       "<Figure size 864x576 with 1 Axes>"
      ]
     },
     "metadata": {
      "needs_background": "light"
     },
     "output_type": "display_data"
    }
   ],
   "source": [
    "# Check out our train loss and test loss over epochs.\n",
    "train_loss = history.history['loss']\n",
    "test_loss = history.history['val_loss']\n",
    "\n",
    "# Set figure size.\n",
    "plt.figure(figsize=(12, 8))\n",
    "\n",
    "# Generate line plot of training, testing loss over epochs.\n",
    "plt.plot(train_loss, label='Training Loss', color='#185fad')\n",
    "plt.plot(test_loss, label='Testing Loss', color='orange')\n",
    "\n",
    "# Set title\n",
    "plt.title('Training and Testing Loss by Epoch', fontsize = 25)\n",
    "plt.xlabel('Epoch', fontsize = 18)\n",
    "plt.ylabel('Categorical Crossentropy', fontsize = 18)\n",
    "\n",
    "plt.legend(fontsize = 18);"
   ]
  },
  {
   "cell_type": "code",
   "execution_count": 22,
   "metadata": {},
   "outputs": [
    {
     "data": {
      "image/png": "[encoded data removed]",
      "text/plain": [
       "<Figure size 864x576 with 1 Axes>"
      ]
     },
     "metadata": {
      "needs_background": "light"
     },
     "output_type": "display_data"
    }
   ],
   "source": [
    "# Set figure size.\n",
    "plt.figure(figsize=(12, 8))\n",
    "\n",
    "plt.plot(history.history['accuracy'], label='Train accuracy')\n",
    "plt.plot(history.history['val_accuracy'], label='Val accuracy')\n",
    "\n",
    "# Set title\n",
    "plt.title('Training and Testing Accuracy by Epoch', fontsize = 25)\n",
    "plt.xlabel('Epoch', fontsize = 18)\n",
    "plt.ylabel('Accuracy', fontsize = 18)\n",
    "plt.legend();"
   ]
  },
  {
   "cell_type": "code",
   "execution_count": null,
   "metadata": {},
   "outputs": [],
   "source": []
  }
 ],
 "metadata": {
  "kernelspec": {
   "display_name": "Python 3",
   "language": "python",
   "name": "python3"
  },
  "language_info": {
   "codemirror_mode": {
    "name": "ipython",
    "version": 3
   },
   "file_extension": ".py",
   "mimetype": "text/x-python",
   "name": "python",
   "nbconvert_exporter": "python",
   "pygments_lexer": "ipython3",
   "version": "3.7.7"
  }
 },
 "nbformat": 4,
 "nbformat_minor": 4
}
