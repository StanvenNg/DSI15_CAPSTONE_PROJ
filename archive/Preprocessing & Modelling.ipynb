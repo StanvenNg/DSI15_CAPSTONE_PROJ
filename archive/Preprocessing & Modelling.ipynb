{
 "cells": [
  {
   "cell_type": "code",
   "execution_count": 1,
   "metadata": {},
   "outputs": [
    {
     "name": "stdout",
     "output_type": "stream",
     "text": [
      "Num GPUs Available:  1\n"
     ]
    }
   ],
   "source": [
    "import tensorflow as tf\n",
    "print(\"Num GPUs Available: \", len(tf.config.experimental.list_physical_devices('GPU')))"
   ]
  },
  {
   "cell_type": "code",
   "execution_count": 2,
   "metadata": {},
   "outputs": [
    {
     "name": "stdout",
     "output_type": "stream",
     "text": [
      "2.1.0\n"
     ]
    }
   ],
   "source": [
    "print(tf.__version__)"
   ]
  },
  {
   "cell_type": "code",
   "execution_count": 3,
   "metadata": {},
   "outputs": [
    {
     "name": "stdout",
     "output_type": "stream",
     "text": [
      "[name: \"/device:CPU:0\"\n",
      "device_type: \"CPU\"\n",
      "memory_limit: 268435456\n",
      "locality {\n",
      "}\n",
      "incarnation: 16226137595936556607\n",
      ", name: \"/device:GPU:0\"\n",
      "device_type: \"GPU\"\n",
      "memory_limit: 6574135706\n",
      "locality {\n",
      "  bus_id: 1\n",
      "  links {\n",
      "  }\n",
      "}\n",
      "incarnation: 5119259918173827743\n",
      "physical_device_desc: \"device: 0, name: GeForce RTX 2080, pci bus id: 0000:01:00.0, compute capability: 7.5\"\n",
      "]\n"
     ]
    }
   ],
   "source": [
    "from tensorflow.python.client import device_lib\n",
    "print(device_lib.list_local_devices())"
   ]
  },
  {
   "cell_type": "code",
   "execution_count": 4,
   "metadata": {},
   "outputs": [
    {
     "name": "stderr",
     "output_type": "stream",
     "text": [
      "Using TensorFlow backend.\n"
     ]
    }
   ],
   "source": [
    "from PIL import Image\n",
    "\n",
    "from matplotlib import image\n",
    "from matplotlib import pyplot as plt\n",
    "from numpy import asarray\n",
    "import numpy as np\n",
    "import pandas as pd\n",
    "\n",
    "from sklearn.model_selection import train_test_split\n",
    "from keras.utils import np_utils\n",
    "from keras.models import Sequential\n",
    "from keras.layers import Dense, Dropout, Activation, Flatten\n",
    "from keras.layers import Conv2D, MaxPooling2D\n",
    "\n",
    "from os import listdir\n",
    "import os"
   ]
  },
  {
   "cell_type": "markdown",
   "metadata": {},
   "source": [
    "---\n",
    "## All Images"
   ]
  },
  {
   "cell_type": "code",
   "execution_count": 5,
   "metadata": {},
   "outputs": [
    {
     "name": "stdout",
     "output_type": "stream",
     "text": [
      "10759 10759\n"
     ]
    }
   ],
   "source": [
    "# load all images in a list\n",
    "X = list()\n",
    "y = list()\n",
    "\n",
    "for style in listdir('./processed'):\n",
    "    for filename in listdir('./processed/' + style):\n",
    "        # load image\n",
    "        img_data = image.imread('./processed/' + style + '/' + filename)\n",
    "        # convert pixel values in array to float\n",
    "        img_data.astype('float32') \n",
    "        # store loaded image\n",
    "        X.append(img_data/255.0) # divide by 255 to standardize values\n",
    "        \n",
    "        y.append(style)\n",
    "        \n",
    "print(len(X), len(y))"
   ]
  },
  {
   "cell_type": "code",
   "execution_count": 6,
   "metadata": {},
   "outputs": [
    {
     "data": {
      "text/plain": [
       "{'Contemporary': '0',\n",
       " 'Eclectic': '1',\n",
       " 'Industrial': '2',\n",
       " 'Minimalistic': '3',\n",
       " 'Modern': '4',\n",
       " 'Scandinavian': '5'}"
      ]
     },
     "execution_count": 6,
     "metadata": {},
     "output_type": "execute_result"
    }
   ],
   "source": [
    "# create a dictionary to contain mapping of values for y\n",
    "i = 0\n",
    "style_dict = dict()\n",
    "\n",
    "for style in np.unique(y):\n",
    "    style_dict[style] = f'{i}'\n",
    "    i += 1\n",
    "    \n",
    "\n",
    "style_dict"
   ]
  },
  {
   "cell_type": "code",
   "execution_count": 7,
   "metadata": {},
   "outputs": [],
   "source": [
    "# convert y into a series to apply mapping using dictionary 'style_dict'\n",
    "y = pd.Series(y)\n",
    "y = y.map(style_dict)\n",
    "\n",
    "# convert X and y to array\n",
    "X = np.array(X)\n",
    "y = np.array(y)"
   ]
  },
  {
   "cell_type": "markdown",
   "metadata": {},
   "source": [
    "## train test split"
   ]
  },
  {
   "cell_type": "code",
   "execution_count": 8,
   "metadata": {},
   "outputs": [],
   "source": [
    "# train test split, train data to be 80% of data\n",
    "X_train, X_test, y_train, y_test = train_test_split(X, y, stratify=y, shuffle=True, train_size=0.8)"
   ]
  },
  {
   "cell_type": "code",
   "execution_count": 9,
   "metadata": {},
   "outputs": [
    {
     "data": {
      "text/plain": [
       "(8607, 256, 256, 3)"
      ]
     },
     "execution_count": 9,
     "metadata": {},
     "output_type": "execute_result"
    }
   ],
   "source": [
    "X_train.shape"
   ]
  },
  {
   "cell_type": "code",
   "execution_count": 10,
   "metadata": {},
   "outputs": [
    {
     "data": {
      "text/plain": [
       "(2152, 256, 256, 3)"
      ]
     },
     "execution_count": 10,
     "metadata": {},
     "output_type": "execute_result"
    }
   ],
   "source": [
    "X_test.shape"
   ]
  },
  {
   "cell_type": "code",
   "execution_count": null,
   "metadata": {},
   "outputs": [],
   "source": []
  },
  {
   "cell_type": "code",
   "execution_count": 11,
   "metadata": {},
   "outputs": [],
   "source": [
    "# convert y values into categories\n",
    "y_train = np_utils.to_categorical(y_train)\n",
    "y_test = np_utils.to_categorical(y_test)"
   ]
  },
  {
   "cell_type": "markdown",
   "metadata": {},
   "source": [
    "# Modelling"
   ]
  },
  {
   "cell_type": "code",
   "execution_count": 12,
   "metadata": {},
   "outputs": [],
   "source": [
    "# instantiating model\n",
    "cnn_model = Sequential()\n",
    "\n",
    "# Add a convolutional layer.\n",
    "cnn_model.add(Conv2D(filters = 64,            # number of filters\n",
    "                     kernel_size = 3,        # height/width of filter\n",
    "                     activation='relu',      # activation function \n",
    "                     input_shape=(256,256,3))) # shape of input (image)\n",
    "                     \n",
    "cnn_model.add(MaxPooling2D(pool_size=(2,2))) # dimensions of region of pooling\n",
    "\n",
    "cnn_model.add(Conv2D(filters = 32,\n",
    "                     kernel_size=3,\n",
    "                     activation='relu'))                     \n",
    "                     \n",
    "cnn_model.add(MaxPooling2D(pool_size=(2,2)))\n",
    "\n",
    "cnn_model.add(Conv2D(filters = 16,\n",
    "                     kernel_size=3,\n",
    "                     activation='relu'))                     \n",
    "                     \n",
    "cnn_model.add(MaxPooling2D(pool_size=(2,2)))\n",
    "                     \n",
    "cnn_model.add(Flatten())\n",
    "                     \n",
    "# Add a densely-connected layer with 256 neurons.\n",
    "cnn_model.add(Dense(256, activation='relu'))\n",
    "\n",
    "# Let's try to avoid overfitting!\n",
    "cnn_model.add(Dropout(0.1))\n",
    "\n",
    "# Add a densely-connected layer with 128 neurons.\n",
    "cnn_model.add(Dense(128, activation='relu'))\n",
    "\n",
    "# Let's try to avoid overfitting!\n",
    "cnn_model.add(Dropout(0.1))\n",
    "\n",
    "# Add a densely-connected layer with 64 neurons.\n",
    "cnn_model.add(Dense(64, activation='relu'))\n",
    "\n",
    "# Let's try to avoid overfitting!\n",
    "cnn_model.add(Dropout(0.1))\n",
    "                     \n",
    "# Add a final layer with 6 neurons.\n",
    "cnn_model.add(Dense(6, activation='softmax'))"
   ]
  },
  {
   "cell_type": "markdown",
   "metadata": {},
   "source": [
    "- batch size max at 100. insufficient computing power"
   ]
  },
  {
   "cell_type": "code",
   "execution_count": 13,
   "metadata": {},
   "outputs": [
    {
     "name": "stdout",
     "output_type": "stream",
     "text": [
      "Train on 8607 samples, validate on 2152 samples\n",
      "Epoch 1/10\n",
      "8607/8607 [==============================] - 92s 11ms/step - loss: 1.7427 - accuracy: 0.2261 - val_loss: 1.6963 - val_accuracy: 0.2533\n",
      "Epoch 2/10\n",
      "8607/8607 [==============================] - 57s 7ms/step - loss: 1.6985 - accuracy: 0.2515 - val_loss: 1.6996 - val_accuracy: 0.2533\n",
      "Epoch 3/10\n",
      "8607/8607 [==============================] - 59s 7ms/step - loss: 1.6567 - accuracy: 0.2757 - val_loss: 1.6903 - val_accuracy: 0.2546\n",
      "Epoch 4/10\n",
      "8607/8607 [==============================] - 66s 8ms/step - loss: 1.5858 - accuracy: 0.3225 - val_loss: 1.7293 - val_accuracy: 0.2402\n",
      "Epoch 5/10\n",
      "8607/8607 [==============================] - 63s 7ms/step - loss: 1.4223 - accuracy: 0.4158 - val_loss: 1.9457 - val_accuracy: 0.2114\n",
      "Epoch 6/10\n",
      "8607/8607 [==============================] - 58s 7ms/step - loss: 1.1807 - accuracy: 0.5365 - val_loss: 2.1614 - val_accuracy: 0.2100\n",
      "Epoch 7/10\n",
      "8607/8607 [==============================] - 53s 6ms/step - loss: 0.9007 - accuracy: 0.6685 - val_loss: 2.4122 - val_accuracy: 0.1924\n",
      "Epoch 8/10\n",
      "8607/8607 [==============================] - 59s 7ms/step - loss: 0.6793 - accuracy: 0.7530 - val_loss: 2.9002 - val_accuracy: 0.1901\n",
      "Epoch 9/10\n",
      "8607/8607 [==============================] - 61s 7ms/step - loss: 0.5338 - accuracy: 0.8039 - val_loss: 3.5385 - val_accuracy: 0.1919\n",
      "Epoch 10/10\n",
      "8607/8607 [==============================] - 73s 8ms/step - loss: 0.4294 - accuracy: 0.8378 - val_loss: 3.8837 - val_accuracy: 0.1919\n"
     ]
    }
   ],
   "source": [
    "# Compile model\n",
    "cnn_model.compile(loss='categorical_crossentropy',\n",
    "                  optimizer='adam',\n",
    "                  metrics=['accuracy'])\n",
    "\n",
    "# Fit model on training data\n",
    "history = cnn_model.fit(X_train,\n",
    "                        y_train,\n",
    "                        batch_size=50,\n",
    "                        validation_data=(X_test, y_test),\n",
    "                        epochs=10,\n",
    "                        verbose=1)"
   ]
  },
  {
   "cell_type": "code",
   "execution_count": null,
   "metadata": {},
   "outputs": [],
   "source": []
  }
 ],
 "metadata": {
  "kernelspec": {
   "display_name": "Python 3",
   "language": "python",
   "name": "python3"
  },
  "language_info": {
   "codemirror_mode": {
    "name": "ipython",
    "version": 3
   },
   "file_extension": ".py",
   "mimetype": "text/x-python",
   "name": "python",
   "nbconvert_exporter": "python",
   "pygments_lexer": "ipython3",
   "version": "3.7.7"
  }
 },
 "nbformat": 4,
 "nbformat_minor": 4
}
