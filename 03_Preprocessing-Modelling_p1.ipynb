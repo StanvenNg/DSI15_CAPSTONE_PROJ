{
 "cells": [
  {
   "cell_type": "code",
   "execution_count": 1,
   "metadata": {},
   "outputs": [
    {
     "name": "stderr",
     "output_type": "stream",
     "text": [
      "Using TensorFlow backend.\n"
     ]
    }
   ],
   "source": [
    "from PIL import Image\n",
    "from matplotlib import image\n",
    "from matplotlib import pyplot as plt\n",
    "from numpy import asarray\n",
    "from sklearn.model_selection import train_test_split\n",
    "import random\n",
    "\n",
    "from keras.preprocessing.image import ImageDataGenerator\n",
    "\n",
    "from os import listdir\n",
    "import os\n",
    "\n",
    "from keras.models import Sequential\n",
    "from keras.layers import Activation, Dropout, Flatten, Dense, Conv2D, MaxPooling2D"
   ]
  },
  {
   "cell_type": "code",
   "execution_count": 2,
   "metadata": {},
   "outputs": [
    {
     "name": "stdout",
     "output_type": "stream",
     "text": [
      "Num GPUs Available:  1\n"
     ]
    }
   ],
   "source": [
    "import tensorflow as tf\n",
    "print(\"Num GPUs Available: \", len(tf.config.experimental.list_physical_devices('GPU')))"
   ]
  },
  {
   "cell_type": "code",
   "execution_count": null,
   "metadata": {},
   "outputs": [],
   "source": []
  },
  {
   "cell_type": "markdown",
   "metadata": {},
   "source": [
    "## Image Generation"
   ]
  },
  {
   "cell_type": "code",
   "execution_count": 3,
   "metadata": {},
   "outputs": [],
   "source": [
    "image_gen = ImageDataGenerator(rotation_range=0, # rotate the image 0 degrees\n",
    "                               width_shift_range=0.2, # Shift the pic width by a max of 10%\n",
    "                               height_shift_range=0.2, # Shift the pic height by a max of 10%\n",
    "                               rescale=1/255, # Rescale the image by normalzing it.\n",
    "                               shear_range=0.2, # Shear means cutting away part of the image (max 20%)\n",
    "                               zoom_range=0.2, # Zoom in by 20% max\n",
    "                               horizontal_flip=True, # Allo horizontal flipping\n",
    "                               fill_mode='nearest' # Fill in missing pixels with the nearest filled value\n",
    "                              )"
   ]
  },
  {
   "cell_type": "markdown",
   "metadata": {},
   "source": [
    "# Modelling"
   ]
  },
  {
   "cell_type": "markdown",
   "metadata": {},
   "source": [
    "## Defining Image Dimention"
   ]
  },
  {
   "cell_type": "code",
   "execution_count": 5,
   "metadata": {},
   "outputs": [],
   "source": [
    "# width,height,channels\n",
    "image_shape = (256,256,3)"
   ]
  },
  {
   "cell_type": "markdown",
   "metadata": {},
   "source": [
    "## Creating the Model #1"
   ]
  },
  {
   "cell_type": "code",
   "execution_count": 6,
   "metadata": {},
   "outputs": [],
   "source": [
    "model = Sequential()\n",
    "\n",
    "model.add(Conv2D(filters=64, kernel_size=(3,3),input_shape=(256,256,3), activation='relu',))\n",
    "model.add(MaxPooling2D(pool_size=(2, 2)))\n",
    "\n",
    "model.add(Conv2D(filters=32, kernel_size=(3,3),activation='relu',))\n",
    "model.add(MaxPooling2D(pool_size=(2, 2)))\n",
    "\n",
    "model.add(Conv2D(filters=16, kernel_size=(3,3),activation='relu',))\n",
    "model.add(MaxPooling2D(pool_size=(2, 2)))\n",
    "\n",
    "\n",
    "model.add(Flatten())\n",
    "\n",
    "model.add(Dense(256, activation='relu'))\n",
    "\n",
    "# Dropouts help reduce overfitting by randomly turning neurons off during training.\n",
    "# Here we say randomly turn off 10% of neurons.\n",
    "model.add(Dropout(0.1))\n",
    "\n",
    "# Add a densely-connected layer with 128 neurons.\n",
    "model.add(Dense(128, activation='relu'))\n",
    "\n",
    "# Let's try to avoid overfitting!\n",
    "model.add(Dropout(0.1))\n",
    "\n",
    "# Add a densely-connected layer with 64 neurons.\n",
    "model.add(Dense(64, activation='relu'))\n",
    "\n",
    "# Let's try to avoid overfitting!\n",
    "model.add(Dropout(0.1))\n",
    "\n",
    "\n",
    "# Last layer, remember its binary, 0=cat , 1=dog\n",
    "model.add(Dense(1))\n",
    "model.add(Activation('sigmoid'))\n",
    "\n",
    "model.compile(loss='binary_crossentropy',\n",
    "              optimizer='adam',\n",
    "              metrics=['accuracy'])"
   ]
  },
  {
   "cell_type": "code",
   "execution_count": 7,
   "metadata": {},
   "outputs": [
    {
     "name": "stdout",
     "output_type": "stream",
     "text": [
      "Model: \"sequential_1\"\n",
      "_________________________________________________________________\n",
      "Layer (type)                 Output Shape              Param #   \n",
      "=================================================================\n",
      "conv2d_1 (Conv2D)            (None, 254, 254, 64)      1792      \n",
      "_________________________________________________________________\n",
      "max_pooling2d_1 (MaxPooling2 (None, 127, 127, 64)      0         \n",
      "_________________________________________________________________\n",
      "conv2d_2 (Conv2D)            (None, 125, 125, 32)      18464     \n",
      "_________________________________________________________________\n",
      "max_pooling2d_2 (MaxPooling2 (None, 62, 62, 32)        0         \n",
      "_________________________________________________________________\n",
      "conv2d_3 (Conv2D)            (None, 60, 60, 16)        4624      \n",
      "_________________________________________________________________\n",
      "max_pooling2d_3 (MaxPooling2 (None, 30, 30, 16)        0         \n",
      "_________________________________________________________________\n",
      "flatten_1 (Flatten)          (None, 14400)             0         \n",
      "_________________________________________________________________\n",
      "dense_1 (Dense)              (None, 256)               3686656   \n",
      "_________________________________________________________________\n",
      "dropout_1 (Dropout)          (None, 256)               0         \n",
      "_________________________________________________________________\n",
      "dense_2 (Dense)              (None, 128)               32896     \n",
      "_________________________________________________________________\n",
      "dropout_2 (Dropout)          (None, 128)               0         \n",
      "_________________________________________________________________\n",
      "dense_3 (Dense)              (None, 64)                8256      \n",
      "_________________________________________________________________\n",
      "dropout_3 (Dropout)          (None, 64)                0         \n",
      "_________________________________________________________________\n",
      "dense_4 (Dense)              (None, 1)                 65        \n",
      "_________________________________________________________________\n",
      "activation_1 (Activation)    (None, 1)                 0         \n",
      "=================================================================\n",
      "Total params: 3,752,753\n",
      "Trainable params: 3,752,753\n",
      "Non-trainable params: 0\n",
      "_________________________________________________________________\n"
     ]
    }
   ],
   "source": [
    "model.summary()"
   ]
  },
  {
   "cell_type": "markdown",
   "metadata": {},
   "source": [
    "### Training the Model: Attempt 1"
   ]
  },
  {
   "cell_type": "code",
   "execution_count": 120,
   "metadata": {},
   "outputs": [
    {
     "name": "stdout",
     "output_type": "stream",
     "text": [
      "Found 3814 images belonging to 2 classes.\n"
     ]
    }
   ],
   "source": [
    "batch_size = 16\n",
    "\n",
    "train_image_gen = image_gen.flow_from_directory('./data/simple/processed/train/',\n",
    "                                               target_size=image_shape[:2],\n",
    "                                               batch_size=batch_size,\n",
    "                                               class_mode='binary')\n",
    "\n",
    "epoch_step = len(train_image_gen.filenames)//batch_size\n",
    "print(epoch_step)"
   ]
  },
  {
   "cell_type": "code",
   "execution_count": 121,
   "metadata": {},
   "outputs": [
    {
     "name": "stdout",
     "output_type": "stream",
     "text": [
      "Found 954 images belonging to 2 classes.\n"
     ]
    }
   ],
   "source": [
    "test_image_gen = image_gen.flow_from_directory('./data/simple/processed/test/',\n",
    "                                               target_size=image_shape[:2],\n",
    "                                               batch_size=batch_size,\n",
    "                                               class_mode='binary')\n",
    "\n",
    "valid_step = len(test_image_gen.filenames)//batch_size\n",
    "print(valid_step)"
   ]
  },
  {
   "cell_type": "code",
   "execution_count": 122,
   "metadata": {},
   "outputs": [
    {
     "data": {
      "text/plain": [
       "{'Contemporary': 0, 'Modern': 1}"
      ]
     },
     "execution_count": 122,
     "metadata": {},
     "output_type": "execute_result"
    }
   ],
   "source": [
    "train_image_gen.class_indices"
   ]
  },
  {
   "cell_type": "code",
   "execution_count": 123,
   "metadata": {
    "scrolled": true
   },
   "outputs": [
    {
     "data": {
      "text/plain": [
       "{'Contemporary': 0, 'Modern': 1}"
      ]
     },
     "execution_count": 123,
     "metadata": {},
     "output_type": "execute_result"
    }
   ],
   "source": [
    "test_image_gen.class_indices"
   ]
  },
  {
   "cell_type": "code",
   "execution_count": 124,
   "metadata": {},
   "outputs": [
    {
     "name": "stdout",
     "output_type": "stream",
     "text": [
      "Epoch 1/100\n",
      "150/150 [==============================] - 38s 253ms/step - loss: 0.6943 - accuracy: 0.4829 - val_loss: 0.6932 - val_accuracy: 0.5365\n",
      "Epoch 2/100\n",
      "150/150 [==============================] - 37s 249ms/step - loss: 0.6941 - accuracy: 0.4849 - val_loss: 0.6942 - val_accuracy: 0.5312\n",
      "Epoch 3/100\n",
      "150/150 [==============================] - 37s 245ms/step - loss: 0.6934 - accuracy: 0.5038 - val_loss: 0.6944 - val_accuracy: 0.4531\n",
      "Epoch 4/100\n",
      "150/150 [==============================] - 37s 246ms/step - loss: 0.6935 - accuracy: 0.4842 - val_loss: 0.6945 - val_accuracy: 0.4948\n",
      "Epoch 5/100\n",
      "150/150 [==============================] - 37s 245ms/step - loss: 0.6934 - accuracy: 0.4803 - val_loss: 0.6920 - val_accuracy: 0.5538\n",
      "Epoch 6/100\n",
      "150/150 [==============================] - 37s 245ms/step - loss: 0.6938 - accuracy: 0.5130 - val_loss: 0.6984 - val_accuracy: 0.5260\n",
      "Epoch 7/100\n",
      "150/150 [==============================] - 37s 244ms/step - loss: 0.6944 - accuracy: 0.5092 - val_loss: 0.6884 - val_accuracy: 0.5312\n",
      "Epoch 8/100\n",
      "150/150 [==============================] - 37s 249ms/step - loss: 0.6943 - accuracy: 0.4795 - val_loss: 0.6969 - val_accuracy: 0.4896\n",
      "Epoch 9/100\n",
      "150/150 [==============================] - 37s 248ms/step - loss: 0.6931 - accuracy: 0.5159 - val_loss: 0.6932 - val_accuracy: 0.4844\n",
      "Epoch 10/100\n",
      "150/150 [==============================] - 38s 255ms/step - loss: 0.6934 - accuracy: 0.4917 - val_loss: 0.6932 - val_accuracy: 0.5215\n",
      "Epoch 11/100\n",
      "150/150 [==============================] - 37s 249ms/step - loss: 0.6933 - accuracy: 0.4929 - val_loss: 0.6960 - val_accuracy: 0.4792\n",
      "Epoch 12/100\n",
      "150/150 [==============================] - 37s 247ms/step - loss: 0.6932 - accuracy: 0.5025 - val_loss: 0.6932 - val_accuracy: 0.5104\n",
      "Epoch 13/100\n",
      "150/150 [==============================] - 37s 250ms/step - loss: 0.6934 - accuracy: 0.5033 - val_loss: 0.7004 - val_accuracy: 0.4792\n",
      "Epoch 14/100\n",
      "150/150 [==============================] - 37s 249ms/step - loss: 0.6932 - accuracy: 0.5092 - val_loss: 0.6916 - val_accuracy: 0.5365\n",
      "Epoch 15/100\n",
      "150/150 [==============================] - 37s 247ms/step - loss: 0.6934 - accuracy: 0.4841 - val_loss: 0.6932 - val_accuracy: 0.5108\n",
      "Epoch 16/100\n",
      "150/150 [==============================] - 37s 250ms/step - loss: 0.6931 - accuracy: 0.5042 - val_loss: 0.6912 - val_accuracy: 0.5365\n",
      "Epoch 17/100\n",
      "150/150 [==============================] - 37s 247ms/step - loss: 0.6933 - accuracy: 0.4996 - val_loss: 0.6949 - val_accuracy: 0.4948\n",
      "Epoch 18/100\n",
      "150/150 [==============================] - 37s 246ms/step - loss: 0.6931 - accuracy: 0.5059 - val_loss: 0.6949 - val_accuracy: 0.4740\n",
      "Epoch 19/100\n",
      "150/150 [==============================] - 37s 244ms/step - loss: 0.6932 - accuracy: 0.5063 - val_loss: 0.6909 - val_accuracy: 0.4792\n",
      "Epoch 20/100\n",
      "150/150 [==============================] - 37s 246ms/step - loss: 0.6931 - accuracy: 0.5100 - val_loss: 0.6898 - val_accuracy: 0.5323\n",
      "Epoch 21/100\n",
      "150/150 [==============================] - 37s 246ms/step - loss: 0.6933 - accuracy: 0.4795 - val_loss: 0.6919 - val_accuracy: 0.5521\n",
      "Epoch 22/100\n",
      "150/150 [==============================] - 37s 244ms/step - loss: 0.6933 - accuracy: 0.4992 - val_loss: 0.6937 - val_accuracy: 0.4427\n",
      "Epoch 23/100\n",
      "150/150 [==============================] - 37s 248ms/step - loss: 0.6929 - accuracy: 0.5163 - val_loss: 0.6912 - val_accuracy: 0.5000\n",
      "Epoch 24/100\n",
      "150/150 [==============================] - 37s 249ms/step - loss: 0.6935 - accuracy: 0.4962 - val_loss: 0.6923 - val_accuracy: 0.5104\n",
      "Epoch 25/100\n",
      "150/150 [==============================] - 37s 246ms/step - loss: 0.6933 - accuracy: 0.4883 - val_loss: 0.6882 - val_accuracy: 0.5000\n",
      "Epoch 26/100\n",
      "150/150 [==============================] - 37s 246ms/step - loss: 0.6933 - accuracy: 0.4992 - val_loss: 0.6912 - val_accuracy: 0.4948\n",
      "Epoch 27/100\n",
      "150/150 [==============================] - 37s 246ms/step - loss: 0.6932 - accuracy: 0.4870 - val_loss: 0.6884 - val_accuracy: 0.4948\n",
      "Epoch 28/100\n",
      "150/150 [==============================] - 37s 248ms/step - loss: 0.6933 - accuracy: 0.4917 - val_loss: 0.6935 - val_accuracy: 0.4896\n",
      "Epoch 29/100\n",
      "150/150 [==============================] - 37s 245ms/step - loss: 0.6929 - accuracy: 0.5151 - val_loss: 0.6837 - val_accuracy: 0.5260\n",
      "Epoch 30/100\n",
      "150/150 [==============================] - 37s 244ms/step - loss: 0.6934 - accuracy: 0.4929 - val_loss: 0.6947 - val_accuracy: 0.5108\n",
      "Epoch 31/100\n",
      "150/150 [==============================] - 37s 248ms/step - loss: 0.6933 - accuracy: 0.4913 - val_loss: 0.6927 - val_accuracy: 0.4583\n",
      "Epoch 32/100\n",
      "150/150 [==============================] - 37s 249ms/step - loss: 0.6932 - accuracy: 0.5067 - val_loss: 0.6975 - val_accuracy: 0.5365\n",
      "Epoch 33/100\n",
      "150/150 [==============================] - 37s 244ms/step - loss: 0.6934 - accuracy: 0.4870 - val_loss: 0.6923 - val_accuracy: 0.4896\n",
      "Epoch 34/100\n",
      "150/150 [==============================] - 37s 246ms/step - loss: 0.6930 - accuracy: 0.5129 - val_loss: 0.6960 - val_accuracy: 0.4583\n",
      "Epoch 35/100\n",
      "150/150 [==============================] - 37s 244ms/step - loss: 0.6934 - accuracy: 0.4996 - val_loss: 0.6932 - val_accuracy: 0.4892\n",
      "Epoch 36/100\n",
      "150/150 [==============================] - 37s 245ms/step - loss: 0.6932 - accuracy: 0.5067 - val_loss: 0.6916 - val_accuracy: 0.4896\n",
      "Epoch 37/100\n",
      "150/150 [==============================] - 37s 249ms/step - loss: 0.6934 - accuracy: 0.4942 - val_loss: 0.6932 - val_accuracy: 0.5312\n",
      "Epoch 38/100\n",
      "150/150 [==============================] - 37s 244ms/step - loss: 0.6932 - accuracy: 0.5063 - val_loss: 0.6941 - val_accuracy: 0.5000\n",
      "Epoch 39/100\n",
      "150/150 [==============================] - 37s 248ms/step - loss: 0.6930 - accuracy: 0.5117 - val_loss: 0.6918 - val_accuracy: 0.4740\n",
      "Epoch 40/100\n",
      "150/150 [==============================] - 37s 247ms/step - loss: 0.6934 - accuracy: 0.4913 - val_loss: 0.6936 - val_accuracy: 0.5215\n",
      "Epoch 41/100\n",
      "150/150 [==============================] - 37s 247ms/step - loss: 0.6930 - accuracy: 0.5133 - val_loss: 0.6955 - val_accuracy: 0.4792\n",
      "Epoch 42/100\n",
      "150/150 [==============================] - 37s 246ms/step - loss: 0.6933 - accuracy: 0.5017 - val_loss: 0.6952 - val_accuracy: 0.5052\n",
      "Epoch 43/100\n",
      "150/150 [==============================] - 37s 245ms/step - loss: 0.6932 - accuracy: 0.4996 - val_loss: 0.6932 - val_accuracy: 0.5417\n",
      "Epoch 44/100\n",
      "150/150 [==============================] - 37s 245ms/step - loss: 0.6932 - accuracy: 0.5008 - val_loss: 0.6944 - val_accuracy: 0.4844\n",
      "Epoch 45/100\n",
      "150/150 [==============================] - 37s 244ms/step - loss: 0.6932 - accuracy: 0.5046 - val_loss: 0.6915 - val_accuracy: 0.5054\n",
      "Epoch 46/100\n",
      "150/150 [==============================] - 37s 244ms/step - loss: 0.6931 - accuracy: 0.5088 - val_loss: 0.6924 - val_accuracy: 0.5000\n",
      "Epoch 47/100\n",
      "150/150 [==============================] - 37s 246ms/step - loss: 0.6932 - accuracy: 0.5021 - val_loss: 0.6932 - val_accuracy: 0.5469\n",
      "Epoch 48/100\n",
      "150/150 [==============================] - 37s 248ms/step - loss: 0.6932 - accuracy: 0.4979 - val_loss: 0.6939 - val_accuracy: 0.4948\n",
      "Epoch 49/100\n",
      "150/150 [==============================] - 37s 245ms/step - loss: 0.6930 - accuracy: 0.5117 - val_loss: 0.6932 - val_accuracy: 0.4167\n",
      "Epoch 50/100\n",
      "150/150 [==============================] - 37s 246ms/step - loss: 0.6934 - accuracy: 0.4950 - val_loss: 0.6897 - val_accuracy: 0.5591\n",
      "Epoch 51/100\n",
      "150/150 [==============================] - 37s 247ms/step - loss: 0.6932 - accuracy: 0.4929 - val_loss: 0.6949 - val_accuracy: 0.4792\n",
      "Epoch 52/100\n",
      "150/150 [==============================] - 37s 245ms/step - loss: 0.6931 - accuracy: 0.5084 - val_loss: 0.6920 - val_accuracy: 0.5260\n",
      "Epoch 53/100\n",
      "150/150 [==============================] - 37s 245ms/step - loss: 0.6932 - accuracy: 0.5008 - val_loss: 0.6922 - val_accuracy: 0.4844\n",
      "Epoch 54/100\n",
      "150/150 [==============================] - 37s 246ms/step - loss: 0.6932 - accuracy: 0.5004 - val_loss: 0.6925 - val_accuracy: 0.5417\n",
      "Epoch 55/100\n",
      "150/150 [==============================] - 37s 244ms/step - loss: 0.6931 - accuracy: 0.5138 - val_loss: 0.6932 - val_accuracy: 0.4839\n",
      "Epoch 56/100\n",
      "150/150 [==============================] - 37s 247ms/step - loss: 0.6933 - accuracy: 0.4858 - val_loss: 0.6932 - val_accuracy: 0.5000\n"
     ]
    },
    {
     "name": "stdout",
     "output_type": "stream",
     "text": [
      "Epoch 57/100\n",
      "150/150 [==============================] - 37s 247ms/step - loss: 0.6931 - accuracy: 0.4954 - val_loss: 0.6909 - val_accuracy: 0.5156\n",
      "Epoch 58/100\n",
      "150/150 [==============================] - 37s 245ms/step - loss: 0.6932 - accuracy: 0.4992 - val_loss: 0.6938 - val_accuracy: 0.5104\n",
      "Epoch 59/100\n",
      "150/150 [==============================] - 37s 245ms/step - loss: 0.6933 - accuracy: 0.4992 - val_loss: 0.6950 - val_accuracy: 0.5104\n",
      "Epoch 60/100\n",
      "150/150 [==============================] - 36s 243ms/step - loss: 0.6933 - accuracy: 0.4849 - val_loss: 0.6931 - val_accuracy: 0.5215\n",
      "Epoch 61/100\n",
      "150/150 [==============================] - 37s 247ms/step - loss: 0.6932 - accuracy: 0.5000 - val_loss: 0.6941 - val_accuracy: 0.5208\n",
      "Epoch 62/100\n",
      "150/150 [==============================] - 37s 245ms/step - loss: 0.6932 - accuracy: 0.5108 - val_loss: 0.6948 - val_accuracy: 0.5000\n",
      "Epoch 63/100\n",
      "150/150 [==============================] - 37s 245ms/step - loss: 0.6932 - accuracy: 0.5050 - val_loss: 0.6953 - val_accuracy: 0.4792\n",
      "Epoch 64/100\n",
      "150/150 [==============================] - 37s 247ms/step - loss: 0.6932 - accuracy: 0.5029 - val_loss: 0.6893 - val_accuracy: 0.5417\n",
      "Epoch 65/100\n",
      "150/150 [==============================] - 37s 245ms/step - loss: 0.6931 - accuracy: 0.5075 - val_loss: 0.6915 - val_accuracy: 0.4731\n",
      "Epoch 66/100\n",
      "150/150 [==============================] - 37s 247ms/step - loss: 0.6931 - accuracy: 0.5096 - val_loss: 0.6932 - val_accuracy: 0.5000\n",
      "Epoch 67/100\n",
      "150/150 [==============================] - 37s 246ms/step - loss: 0.6933 - accuracy: 0.5013 - val_loss: 0.6922 - val_accuracy: 0.4896\n",
      "Epoch 68/100\n",
      "150/150 [==============================] - 37s 245ms/step - loss: 0.6932 - accuracy: 0.5013 - val_loss: 0.6906 - val_accuracy: 0.4844\n",
      "Epoch 69/100\n",
      "150/150 [==============================] - 36s 242ms/step - loss: 0.6932 - accuracy: 0.5025 - val_loss: 0.6932 - val_accuracy: 0.4896\n",
      "Epoch 70/100\n",
      "150/150 [==============================] - 36s 243ms/step - loss: 0.6932 - accuracy: 0.5013 - val_loss: 0.6932 - val_accuracy: 0.5538\n",
      "Epoch 71/100\n",
      "150/150 [==============================] - 37s 244ms/step - loss: 0.6932 - accuracy: 0.5050 - val_loss: 0.6949 - val_accuracy: 0.5052\n",
      "Epoch 72/100\n",
      "150/150 [==============================] - 37s 246ms/step - loss: 0.6932 - accuracy: 0.5029 - val_loss: 0.6932 - val_accuracy: 0.5104\n",
      "Epoch 73/100\n",
      "150/150 [==============================] - 37s 245ms/step - loss: 0.6933 - accuracy: 0.4987 - val_loss: 0.6932 - val_accuracy: 0.4844\n",
      "Epoch 74/100\n",
      "150/150 [==============================] - 36s 243ms/step - loss: 0.6932 - accuracy: 0.4929 - val_loss: 0.6932 - val_accuracy: 0.4740\n",
      "Epoch 75/100\n",
      "150/150 [==============================] - 37s 243ms/step - loss: 0.6931 - accuracy: 0.5054 - val_loss: 0.6932 - val_accuracy: 0.5430\n",
      "Epoch 76/100\n",
      "150/150 [==============================] - 38s 251ms/step - loss: 0.6932 - accuracy: 0.5067 - val_loss: 0.6965 - val_accuracy: 0.4635\n",
      "Epoch 77/100\n",
      "150/150 [==============================] - 37s 248ms/step - loss: 0.6931 - accuracy: 0.5075 - val_loss: 0.6909 - val_accuracy: 0.5104\n",
      "Epoch 78/100\n",
      "150/150 [==============================] - 37s 247ms/step - loss: 0.6932 - accuracy: 0.4996 - val_loss: 0.6932 - val_accuracy: 0.4792\n",
      "Epoch 79/100\n",
      "150/150 [==============================] - 37s 247ms/step - loss: 0.6931 - accuracy: 0.5063 - val_loss: 0.6944 - val_accuracy: 0.5156\n",
      "Epoch 80/100\n",
      "150/150 [==============================] - 37s 248ms/step - loss: 0.6934 - accuracy: 0.4870 - val_loss: 0.6933 - val_accuracy: 0.4516\n",
      "Epoch 81/100\n",
      "150/150 [==============================] - 37s 247ms/step - loss: 0.6932 - accuracy: 0.4996 - val_loss: 0.6957 - val_accuracy: 0.5208\n",
      "Epoch 82/100\n",
      "150/150 [==============================] - 37s 247ms/step - loss: 0.6931 - accuracy: 0.5067 - val_loss: 0.6949 - val_accuracy: 0.5000\n",
      "Epoch 83/100\n",
      "150/150 [==============================] - 37s 245ms/step - loss: 0.6931 - accuracy: 0.5059 - val_loss: 0.6954 - val_accuracy: 0.5260\n",
      "Epoch 84/100\n",
      "150/150 [==============================] - 37s 245ms/step - loss: 0.6932 - accuracy: 0.4988 - val_loss: 0.6917 - val_accuracy: 0.4844\n",
      "Epoch 85/100\n",
      "150/150 [==============================] - 37s 246ms/step - loss: 0.6930 - accuracy: 0.5129 - val_loss: 0.6958 - val_accuracy: 0.4839\n",
      "Epoch 86/100\n",
      "150/150 [==============================] - 37s 245ms/step - loss: 0.6934 - accuracy: 0.4925 - val_loss: 0.6942 - val_accuracy: 0.4844\n",
      "Epoch 87/100\n",
      "150/150 [==============================] - 37s 248ms/step - loss: 0.6932 - accuracy: 0.4988 - val_loss: 0.6932 - val_accuracy: 0.5208\n",
      "Epoch 88/100\n",
      "150/150 [==============================] - 37s 246ms/step - loss: 0.6932 - accuracy: 0.5033 - val_loss: 0.6915 - val_accuracy: 0.5208\n",
      "Epoch 89/100\n",
      "150/150 [==============================] - 37s 245ms/step - loss: 0.6932 - accuracy: 0.5017 - val_loss: 0.6925 - val_accuracy: 0.4896\n",
      "Epoch 90/100\n",
      "150/150 [==============================] - 37s 245ms/step - loss: 0.6932 - accuracy: 0.5008 - val_loss: 0.6947 - val_accuracy: 0.5000\n",
      "Epoch 91/100\n",
      "150/150 [==============================] - 38s 252ms/step - loss: 0.6932 - accuracy: 0.5054 - val_loss: 0.6932 - val_accuracy: 0.4479\n",
      "Epoch 92/100\n",
      "150/150 [==============================] - 38s 254ms/step - loss: 0.6932 - accuracy: 0.4975 - val_loss: 0.6927 - val_accuracy: 0.4896\n",
      "Epoch 93/100\n",
      "150/150 [==============================] - 37s 249ms/step - loss: 0.6933 - accuracy: 0.5008 - val_loss: 0.6929 - val_accuracy: 0.5208\n",
      "Epoch 94/100\n",
      "150/150 [==============================] - 37s 248ms/step - loss: 0.6931 - accuracy: 0.5138 - val_loss: 0.6951 - val_accuracy: 0.5208\n",
      "Epoch 95/100\n",
      "150/150 [==============================] - 37s 249ms/step - loss: 0.6932 - accuracy: 0.5046 - val_loss: 0.6932 - val_accuracy: 0.5376\n",
      "Epoch 96/100\n",
      "150/150 [==============================] - 38s 251ms/step - loss: 0.6932 - accuracy: 0.5079 - val_loss: 0.6945 - val_accuracy: 0.5365\n",
      "Epoch 97/100\n",
      "150/150 [==============================] - 38s 253ms/step - loss: 0.6933 - accuracy: 0.4954 - val_loss: 0.6926 - val_accuracy: 0.4792\n",
      "Epoch 98/100\n",
      "150/150 [==============================] - 37s 246ms/step - loss: 0.6931 - accuracy: 0.5092 - val_loss: 0.6921 - val_accuracy: 0.5000\n",
      "Epoch 99/100\n",
      "150/150 [==============================] - 37s 247ms/step - loss: 0.6933 - accuracy: 0.4954 - val_loss: 0.6944 - val_accuracy: 0.5000\n",
      "Epoch 100/100\n",
      "150/150 [==============================] - 37s 250ms/step - loss: 0.6931 - accuracy: 0.4992 - val_loss: 0.6920 - val_accuracy: 0.5000\n"
     ]
    }
   ],
   "source": [
    "results = model.fit_generator(train_image_gen,epochs=30,\n",
    "                              steps_per_epoch=epoch_step,\n",
    "                              validation_data=test_image_gen,\n",
    "                              validation_steps=valid_step,\n",
    "                              verbose=1)"
   ]
  },
  {
   "cell_type": "code",
   "execution_count": 128,
   "metadata": {
    "scrolled": true
   },
   "outputs": [
    {
     "data": {
      "text/plain": [
       "[<matplotlib.lines.Line2D at 0x1e833440848>]"
      ]
     },
     "execution_count": 128,
     "metadata": {},
     "output_type": "execute_result"
    },
    {
     "data": {
      "image/png": "[encoded data removed]",
      "text/plain": [
       "<Figure size 432x288 with 1 Axes>"
      ]
     },
     "metadata": {
      "needs_background": "light"
     },
     "output_type": "display_data"
    }
   ],
   "source": [
    "plt.plot(results.history['accuracy'])"
   ]
  },
  {
   "cell_type": "markdown",
   "metadata": {},
   "source": [
    "### Training the Model: Attempt 2"
   ]
  },
  {
   "cell_type": "markdown",
   "metadata": {},
   "source": [
    "- increase batch size from 16 to 50"
   ]
  },
  {
   "cell_type": "code",
   "execution_count": 166,
   "metadata": {},
   "outputs": [
    {
     "name": "stdout",
     "output_type": "stream",
     "text": [
      "Found 3814 images belonging to 2 classes.\n",
      "76\n"
     ]
    }
   ],
   "source": [
    "batch_size2 = 50\n",
    "\n",
    "train_image_gen2 = image_gen.flow_from_directory('./data/simple/processed/train/',\n",
    "                                               target_size=image_shape[:2],\n",
    "                                               batch_size=batch_size2,\n",
    "                                               class_mode='binary')\n",
    "\n",
    "epoch_step = len(train_image_gen2.filenames)//batch_size2\n",
    "print(epoch_step)"
   ]
  },
  {
   "cell_type": "code",
   "execution_count": 167,
   "metadata": {},
   "outputs": [
    {
     "name": "stdout",
     "output_type": "stream",
     "text": [
      "Found 954 images belonging to 2 classes.\n",
      "19\n"
     ]
    }
   ],
   "source": [
    "test_image_gen2 = image_gen.flow_from_directory('./data/simple/processed/test/',\n",
    "                                               target_size=image_shape[:2],\n",
    "                                               batch_size=batch_size2,\n",
    "                                               class_mode='binary')\n",
    "\n",
    "valid_step = len(test_image_gen2.filenames)//batch_size2\n",
    "print(valid_step)"
   ]
  },
  {
   "cell_type": "code",
   "execution_count": 168,
   "metadata": {},
   "outputs": [
    {
     "data": {
      "text/plain": [
       "{'Contemporary': 0, 'Modern': 1}"
      ]
     },
     "execution_count": 168,
     "metadata": {},
     "output_type": "execute_result"
    }
   ],
   "source": [
    "train_image_gen2.class_indices"
   ]
  },
  {
   "cell_type": "code",
   "execution_count": 169,
   "metadata": {
    "scrolled": true
   },
   "outputs": [
    {
     "data": {
      "text/plain": [
       "{'Contemporary': 0, 'Modern': 1}"
      ]
     },
     "execution_count": 169,
     "metadata": {},
     "output_type": "execute_result"
    }
   ],
   "source": [
    "test_image_gen2.class_indices"
   ]
  },
  {
   "cell_type": "code",
   "execution_count": 170,
   "metadata": {},
   "outputs": [
    {
     "name": "stdout",
     "output_type": "stream",
     "text": [
      "Epoch 1/50\n",
      "76/76 [==============================] - 63s 835ms/step - loss: 0.6931 - accuracy: 0.5040 - val_loss: 0.6929 - val_accuracy: 0.5021\n",
      "Epoch 2/50\n",
      "76/76 [==============================] - 70s 923ms/step - loss: 0.6931 - accuracy: 0.5021 - val_loss: 0.6929 - val_accuracy: 0.5044\n",
      "Epoch 3/50\n",
      "76/76 [==============================] - 69s 903ms/step - loss: 0.6931 - accuracy: 0.5058 - val_loss: 0.6926 - val_accuracy: 0.5011\n",
      "Epoch 4/50\n",
      "76/76 [==============================] - 68s 896ms/step - loss: 0.6931 - accuracy: 0.5043 - val_loss: 0.6932 - val_accuracy: 0.5077\n",
      "Epoch 5/50\n",
      "76/76 [==============================] - 67s 877ms/step - loss: 0.6931 - accuracy: 0.5048 - val_loss: 0.6920 - val_accuracy: 0.5022\n",
      "Epoch 6/50\n",
      "76/76 [==============================] - 66s 866ms/step - loss: 0.6932 - accuracy: 0.5003 - val_loss: 0.6940 - val_accuracy: 0.5044\n",
      "Epoch 7/50\n",
      "14/76 [====>.........................] - ETA: 30s - loss: 0.6931 - accuracy: 0.5043"
     ]
    },
    {
     "ename": "KeyboardInterrupt",
     "evalue": "",
     "output_type": "error",
     "traceback": [
      "\u001b[1;31m---------------------------------------------------------------------------\u001b[0m",
      "\u001b[1;31mKeyboardInterrupt\u001b[0m                         Traceback (most recent call last)",
      "\u001b[1;32m<ipython-input-170-f1a0ec72262b>\u001b[0m in \u001b[0;36m<module>\u001b[1;34m\u001b[0m\n\u001b[0;32m      3\u001b[0m                               \u001b[0mvalidation_data\u001b[0m\u001b[1;33m=\u001b[0m\u001b[0mtest_image_gen2\u001b[0m\u001b[1;33m,\u001b[0m\u001b[1;33m\u001b[0m\u001b[1;33m\u001b[0m\u001b[0m\n\u001b[0;32m      4\u001b[0m                               \u001b[0mvalidation_steps\u001b[0m\u001b[1;33m=\u001b[0m\u001b[0mvalid_step\u001b[0m\u001b[1;33m,\u001b[0m\u001b[1;33m\u001b[0m\u001b[1;33m\u001b[0m\u001b[0m\n\u001b[1;32m----> 5\u001b[1;33m                               verbose=1)\n\u001b[0m",
      "\u001b[1;32m~\\AppData\\Roaming\\Python\\Python37\\site-packages\\keras\\legacy\\interfaces.py\u001b[0m in \u001b[0;36mwrapper\u001b[1;34m(*args, **kwargs)\u001b[0m\n\u001b[0;32m     89\u001b[0m                 warnings.warn('Update your `' + object_name + '` call to the ' +\n\u001b[0;32m     90\u001b[0m                               'Keras 2 API: ' + signature, stacklevel=2)\n\u001b[1;32m---> 91\u001b[1;33m             \u001b[1;32mreturn\u001b[0m \u001b[0mfunc\u001b[0m\u001b[1;33m(\u001b[0m\u001b[1;33m*\u001b[0m\u001b[0margs\u001b[0m\u001b[1;33m,\u001b[0m \u001b[1;33m**\u001b[0m\u001b[0mkwargs\u001b[0m\u001b[1;33m)\u001b[0m\u001b[1;33m\u001b[0m\u001b[1;33m\u001b[0m\u001b[0m\n\u001b[0m\u001b[0;32m     92\u001b[0m         \u001b[0mwrapper\u001b[0m\u001b[1;33m.\u001b[0m\u001b[0m_original_function\u001b[0m \u001b[1;33m=\u001b[0m \u001b[0mfunc\u001b[0m\u001b[1;33m\u001b[0m\u001b[1;33m\u001b[0m\u001b[0m\n\u001b[0;32m     93\u001b[0m         \u001b[1;32mreturn\u001b[0m \u001b[0mwrapper\u001b[0m\u001b[1;33m\u001b[0m\u001b[1;33m\u001b[0m\u001b[0m\n",
      "\u001b[1;32m~\\AppData\\Roaming\\Python\\Python37\\site-packages\\keras\\engine\\training.py\u001b[0m in \u001b[0;36mfit_generator\u001b[1;34m(self, generator, steps_per_epoch, epochs, verbose, callbacks, validation_data, validation_steps, validation_freq, class_weight, max_queue_size, workers, use_multiprocessing, shuffle, initial_epoch)\u001b[0m\n\u001b[0;32m   1730\u001b[0m             \u001b[0muse_multiprocessing\u001b[0m\u001b[1;33m=\u001b[0m\u001b[0muse_multiprocessing\u001b[0m\u001b[1;33m,\u001b[0m\u001b[1;33m\u001b[0m\u001b[1;33m\u001b[0m\u001b[0m\n\u001b[0;32m   1731\u001b[0m             \u001b[0mshuffle\u001b[0m\u001b[1;33m=\u001b[0m\u001b[0mshuffle\u001b[0m\u001b[1;33m,\u001b[0m\u001b[1;33m\u001b[0m\u001b[1;33m\u001b[0m\u001b[0m\n\u001b[1;32m-> 1732\u001b[1;33m             initial_epoch=initial_epoch)\n\u001b[0m\u001b[0;32m   1733\u001b[0m \u001b[1;33m\u001b[0m\u001b[0m\n\u001b[0;32m   1734\u001b[0m     \u001b[1;33m@\u001b[0m\u001b[0minterfaces\u001b[0m\u001b[1;33m.\u001b[0m\u001b[0mlegacy_generator_methods_support\u001b[0m\u001b[1;33m\u001b[0m\u001b[1;33m\u001b[0m\u001b[0m\n",
      "\u001b[1;32m~\\AppData\\Roaming\\Python\\Python37\\site-packages\\keras\\engine\\training_generator.py\u001b[0m in \u001b[0;36mfit_generator\u001b[1;34m(model, generator, steps_per_epoch, epochs, verbose, callbacks, validation_data, validation_steps, validation_freq, class_weight, max_queue_size, workers, use_multiprocessing, shuffle, initial_epoch)\u001b[0m\n\u001b[0;32m    183\u001b[0m             \u001b[0mbatch_index\u001b[0m \u001b[1;33m=\u001b[0m \u001b[1;36m0\u001b[0m\u001b[1;33m\u001b[0m\u001b[1;33m\u001b[0m\u001b[0m\n\u001b[0;32m    184\u001b[0m             \u001b[1;32mwhile\u001b[0m \u001b[0msteps_done\u001b[0m \u001b[1;33m<\u001b[0m \u001b[0msteps_per_epoch\u001b[0m\u001b[1;33m:\u001b[0m\u001b[1;33m\u001b[0m\u001b[1;33m\u001b[0m\u001b[0m\n\u001b[1;32m--> 185\u001b[1;33m                 \u001b[0mgenerator_output\u001b[0m \u001b[1;33m=\u001b[0m \u001b[0mnext\u001b[0m\u001b[1;33m(\u001b[0m\u001b[0moutput_generator\u001b[0m\u001b[1;33m)\u001b[0m\u001b[1;33m\u001b[0m\u001b[1;33m\u001b[0m\u001b[0m\n\u001b[0m\u001b[0;32m    186\u001b[0m \u001b[1;33m\u001b[0m\u001b[0m\n\u001b[0;32m    187\u001b[0m                 \u001b[1;32mif\u001b[0m \u001b[1;32mnot\u001b[0m \u001b[0mhasattr\u001b[0m\u001b[1;33m(\u001b[0m\u001b[0mgenerator_output\u001b[0m\u001b[1;33m,\u001b[0m \u001b[1;34m'__len__'\u001b[0m\u001b[1;33m)\u001b[0m\u001b[1;33m:\u001b[0m\u001b[1;33m\u001b[0m\u001b[1;33m\u001b[0m\u001b[0m\n",
      "\u001b[1;32m~\\AppData\\Roaming\\Python\\Python37\\site-packages\\keras\\utils\\data_utils.py\u001b[0m in \u001b[0;36mget\u001b[1;34m(self)\u001b[0m\n\u001b[0;32m    608\u001b[0m                 \u001b[1;32mtry\u001b[0m\u001b[1;33m:\u001b[0m\u001b[1;33m\u001b[0m\u001b[1;33m\u001b[0m\u001b[0m\n\u001b[0;32m    609\u001b[0m                     \u001b[0mfuture\u001b[0m \u001b[1;33m=\u001b[0m \u001b[0mself\u001b[0m\u001b[1;33m.\u001b[0m\u001b[0mqueue\u001b[0m\u001b[1;33m.\u001b[0m\u001b[0mget\u001b[0m\u001b[1;33m(\u001b[0m\u001b[0mblock\u001b[0m\u001b[1;33m=\u001b[0m\u001b[1;32mTrue\u001b[0m\u001b[1;33m)\u001b[0m\u001b[1;33m\u001b[0m\u001b[1;33m\u001b[0m\u001b[0m\n\u001b[1;32m--> 610\u001b[1;33m                     \u001b[0minputs\u001b[0m \u001b[1;33m=\u001b[0m \u001b[0mfuture\u001b[0m\u001b[1;33m.\u001b[0m\u001b[0mget\u001b[0m\u001b[1;33m(\u001b[0m\u001b[0mtimeout\u001b[0m\u001b[1;33m=\u001b[0m\u001b[1;36m30\u001b[0m\u001b[1;33m)\u001b[0m\u001b[1;33m\u001b[0m\u001b[1;33m\u001b[0m\u001b[0m\n\u001b[0m\u001b[0;32m    611\u001b[0m                 \u001b[1;32mexcept\u001b[0m \u001b[0mmp\u001b[0m\u001b[1;33m.\u001b[0m\u001b[0mTimeoutError\u001b[0m\u001b[1;33m:\u001b[0m\u001b[1;33m\u001b[0m\u001b[1;33m\u001b[0m\u001b[0m\n\u001b[0;32m    612\u001b[0m                     \u001b[0midx\u001b[0m \u001b[1;33m=\u001b[0m \u001b[0mfuture\u001b[0m\u001b[1;33m.\u001b[0m\u001b[0midx\u001b[0m\u001b[1;33m\u001b[0m\u001b[1;33m\u001b[0m\u001b[0m\n",
      "\u001b[1;32m~\\.conda\\envs\\dsi_capstone\\lib\\multiprocessing\\pool.py\u001b[0m in \u001b[0;36mget\u001b[1;34m(self, timeout)\u001b[0m\n\u001b[0;32m    649\u001b[0m \u001b[1;33m\u001b[0m\u001b[0m\n\u001b[0;32m    650\u001b[0m     \u001b[1;32mdef\u001b[0m \u001b[0mget\u001b[0m\u001b[1;33m(\u001b[0m\u001b[0mself\u001b[0m\u001b[1;33m,\u001b[0m \u001b[0mtimeout\u001b[0m\u001b[1;33m=\u001b[0m\u001b[1;32mNone\u001b[0m\u001b[1;33m)\u001b[0m\u001b[1;33m:\u001b[0m\u001b[1;33m\u001b[0m\u001b[1;33m\u001b[0m\u001b[0m\n\u001b[1;32m--> 651\u001b[1;33m         \u001b[0mself\u001b[0m\u001b[1;33m.\u001b[0m\u001b[0mwait\u001b[0m\u001b[1;33m(\u001b[0m\u001b[0mtimeout\u001b[0m\u001b[1;33m)\u001b[0m\u001b[1;33m\u001b[0m\u001b[1;33m\u001b[0m\u001b[0m\n\u001b[0m\u001b[0;32m    652\u001b[0m         \u001b[1;32mif\u001b[0m \u001b[1;32mnot\u001b[0m \u001b[0mself\u001b[0m\u001b[1;33m.\u001b[0m\u001b[0mready\u001b[0m\u001b[1;33m(\u001b[0m\u001b[1;33m)\u001b[0m\u001b[1;33m:\u001b[0m\u001b[1;33m\u001b[0m\u001b[1;33m\u001b[0m\u001b[0m\n\u001b[0;32m    653\u001b[0m             \u001b[1;32mraise\u001b[0m \u001b[0mTimeoutError\u001b[0m\u001b[1;33m\u001b[0m\u001b[1;33m\u001b[0m\u001b[0m\n",
      "\u001b[1;32m~\\.conda\\envs\\dsi_capstone\\lib\\multiprocessing\\pool.py\u001b[0m in \u001b[0;36mwait\u001b[1;34m(self, timeout)\u001b[0m\n\u001b[0;32m    646\u001b[0m \u001b[1;33m\u001b[0m\u001b[0m\n\u001b[0;32m    647\u001b[0m     \u001b[1;32mdef\u001b[0m \u001b[0mwait\u001b[0m\u001b[1;33m(\u001b[0m\u001b[0mself\u001b[0m\u001b[1;33m,\u001b[0m \u001b[0mtimeout\u001b[0m\u001b[1;33m=\u001b[0m\u001b[1;32mNone\u001b[0m\u001b[1;33m)\u001b[0m\u001b[1;33m:\u001b[0m\u001b[1;33m\u001b[0m\u001b[1;33m\u001b[0m\u001b[0m\n\u001b[1;32m--> 648\u001b[1;33m         \u001b[0mself\u001b[0m\u001b[1;33m.\u001b[0m\u001b[0m_event\u001b[0m\u001b[1;33m.\u001b[0m\u001b[0mwait\u001b[0m\u001b[1;33m(\u001b[0m\u001b[0mtimeout\u001b[0m\u001b[1;33m)\u001b[0m\u001b[1;33m\u001b[0m\u001b[1;33m\u001b[0m\u001b[0m\n\u001b[0m\u001b[0;32m    649\u001b[0m \u001b[1;33m\u001b[0m\u001b[0m\n\u001b[0;32m    650\u001b[0m     \u001b[1;32mdef\u001b[0m \u001b[0mget\u001b[0m\u001b[1;33m(\u001b[0m\u001b[0mself\u001b[0m\u001b[1;33m,\u001b[0m \u001b[0mtimeout\u001b[0m\u001b[1;33m=\u001b[0m\u001b[1;32mNone\u001b[0m\u001b[1;33m)\u001b[0m\u001b[1;33m:\u001b[0m\u001b[1;33m\u001b[0m\u001b[1;33m\u001b[0m\u001b[0m\n",
      "\u001b[1;32m~\\.conda\\envs\\dsi_capstone\\lib\\threading.py\u001b[0m in \u001b[0;36mwait\u001b[1;34m(self, timeout)\u001b[0m\n\u001b[0;32m    550\u001b[0m             \u001b[0msignaled\u001b[0m \u001b[1;33m=\u001b[0m \u001b[0mself\u001b[0m\u001b[1;33m.\u001b[0m\u001b[0m_flag\u001b[0m\u001b[1;33m\u001b[0m\u001b[1;33m\u001b[0m\u001b[0m\n\u001b[0;32m    551\u001b[0m             \u001b[1;32mif\u001b[0m \u001b[1;32mnot\u001b[0m \u001b[0msignaled\u001b[0m\u001b[1;33m:\u001b[0m\u001b[1;33m\u001b[0m\u001b[1;33m\u001b[0m\u001b[0m\n\u001b[1;32m--> 552\u001b[1;33m                 \u001b[0msignaled\u001b[0m \u001b[1;33m=\u001b[0m \u001b[0mself\u001b[0m\u001b[1;33m.\u001b[0m\u001b[0m_cond\u001b[0m\u001b[1;33m.\u001b[0m\u001b[0mwait\u001b[0m\u001b[1;33m(\u001b[0m\u001b[0mtimeout\u001b[0m\u001b[1;33m)\u001b[0m\u001b[1;33m\u001b[0m\u001b[1;33m\u001b[0m\u001b[0m\n\u001b[0m\u001b[0;32m    553\u001b[0m             \u001b[1;32mreturn\u001b[0m \u001b[0msignaled\u001b[0m\u001b[1;33m\u001b[0m\u001b[1;33m\u001b[0m\u001b[0m\n\u001b[0;32m    554\u001b[0m \u001b[1;33m\u001b[0m\u001b[0m\n",
      "\u001b[1;32m~\\.conda\\envs\\dsi_capstone\\lib\\threading.py\u001b[0m in \u001b[0;36mwait\u001b[1;34m(self, timeout)\u001b[0m\n\u001b[0;32m    298\u001b[0m             \u001b[1;32melse\u001b[0m\u001b[1;33m:\u001b[0m\u001b[1;33m\u001b[0m\u001b[1;33m\u001b[0m\u001b[0m\n\u001b[0;32m    299\u001b[0m                 \u001b[1;32mif\u001b[0m \u001b[0mtimeout\u001b[0m \u001b[1;33m>\u001b[0m \u001b[1;36m0\u001b[0m\u001b[1;33m:\u001b[0m\u001b[1;33m\u001b[0m\u001b[1;33m\u001b[0m\u001b[0m\n\u001b[1;32m--> 300\u001b[1;33m                     \u001b[0mgotit\u001b[0m \u001b[1;33m=\u001b[0m \u001b[0mwaiter\u001b[0m\u001b[1;33m.\u001b[0m\u001b[0macquire\u001b[0m\u001b[1;33m(\u001b[0m\u001b[1;32mTrue\u001b[0m\u001b[1;33m,\u001b[0m \u001b[0mtimeout\u001b[0m\u001b[1;33m)\u001b[0m\u001b[1;33m\u001b[0m\u001b[1;33m\u001b[0m\u001b[0m\n\u001b[0m\u001b[0;32m    301\u001b[0m                 \u001b[1;32melse\u001b[0m\u001b[1;33m:\u001b[0m\u001b[1;33m\u001b[0m\u001b[1;33m\u001b[0m\u001b[0m\n\u001b[0;32m    302\u001b[0m                     \u001b[0mgotit\u001b[0m \u001b[1;33m=\u001b[0m \u001b[0mwaiter\u001b[0m\u001b[1;33m.\u001b[0m\u001b[0macquire\u001b[0m\u001b[1;33m(\u001b[0m\u001b[1;32mFalse\u001b[0m\u001b[1;33m)\u001b[0m\u001b[1;33m\u001b[0m\u001b[1;33m\u001b[0m\u001b[0m\n",
      "\u001b[1;31mKeyboardInterrupt\u001b[0m: "
     ]
    }
   ],
   "source": [
    "results2 = model.fit_generator(train_image_gen2,epochs=30,\n",
    "                              steps_per_epoch=epoch_step,\n",
    "                              validation_data=test_image_gen2,\n",
    "                              validation_steps=valid_step,\n",
    "                              verbose=1)"
   ]
  },
  {
   "cell_type": "code",
   "execution_count": 128,
   "metadata": {
    "scrolled": true
   },
   "outputs": [
    {
     "data": {
      "text/plain": [
       "[<matplotlib.lines.Line2D at 0x1e833440848>]"
      ]
     },
     "execution_count": 128,
     "metadata": {},
     "output_type": "execute_result"
    },
    {
     "data": {
      "image/png": "[encoded data removed]",
      "text/plain": [
       "<Figure size 432x288 with 1 Axes>"
      ]
     },
     "metadata": {
      "needs_background": "light"
     },
     "output_type": "display_data"
    }
   ],
   "source": [
    "plt.plot(results2.history['accuracy'])"
   ]
  },
  {
   "cell_type": "markdown",
   "metadata": {},
   "source": [
    "## Creating the Model #2"
   ]
  },
  {
   "cell_type": "markdown",
   "metadata": {},
   "source": [
    "- model without dropouts because not much overfitting detected in model #1"
   ]
  },
  {
   "cell_type": "code",
   "execution_count": 171,
   "metadata": {},
   "outputs": [],
   "source": [
    "model2 = Sequential()\n",
    "\n",
    "model2.add(Conv2D(filters=64, kernel_size=(3,3),input_shape=(256,256,3), activation='relu',))\n",
    "model2.add(MaxPooling2D(pool_size=(2, 2)))\n",
    "\n",
    "model2.add(Conv2D(filters=32, kernel_size=(3,3),activation='relu',))\n",
    "model2.add(MaxPooling2D(pool_size=(2, 2)))\n",
    "\n",
    "model2.add(Conv2D(filters=16, kernel_size=(3,3),activation='relu',))\n",
    "model2.add(MaxPooling2D(pool_size=(2, 2)))\n",
    "\n",
    "\n",
    "model2.add(Flatten())\n",
    "\n",
    "model2.add(Dense(256, activation='relu'))\n",
    "\n",
    "# Dropouts help reduce overfitting by randomly turning neurons off during training.\n",
    "# Here we say randomly turn off 10% of neurons.\n",
    "#model2.add(Dropout(0.1))\n",
    "\n",
    "# Add a densely-connected layer with 128 neurons.\n",
    "model2.add(Dense(128, activation='relu'))\n",
    "\n",
    "# Let's try to avoid overfitting!\n",
    "#model2.add(Dropout(0.1))\n",
    "\n",
    "# Add a densely-connected layer with 64 neurons.\n",
    "model2.add(Dense(64, activation='relu'))\n",
    "\n",
    "# Let's try to avoid overfitting!\n",
    "#model2.add(Dropout(0.1))\n",
    "\n",
    "\n",
    "# Last layer, remember its binary, 0=cat , 1=dog\n",
    "model2.add(Dense(1))\n",
    "model2.add(Activation('sigmoid'))\n",
    "\n",
    "model2.compile(loss='binary_crossentropy',\n",
    "              optimizer='adam',\n",
    "              metrics=['accuracy'])"
   ]
  },
  {
   "cell_type": "code",
   "execution_count": 172,
   "metadata": {
    "scrolled": true
   },
   "outputs": [
    {
     "name": "stdout",
     "output_type": "stream",
     "text": [
      "Model: \"sequential_4\"\n",
      "_________________________________________________________________\n",
      "Layer (type)                 Output Shape              Param #   \n",
      "=================================================================\n",
      "conv2d_10 (Conv2D)           (None, 254, 254, 64)      1792      \n",
      "_________________________________________________________________\n",
      "max_pooling2d_10 (MaxPooling (None, 127, 127, 64)      0         \n",
      "_________________________________________________________________\n",
      "conv2d_11 (Conv2D)           (None, 125, 125, 32)      18464     \n",
      "_________________________________________________________________\n",
      "max_pooling2d_11 (MaxPooling (None, 62, 62, 32)        0         \n",
      "_________________________________________________________________\n",
      "conv2d_12 (Conv2D)           (None, 60, 60, 16)        4624      \n",
      "_________________________________________________________________\n",
      "max_pooling2d_12 (MaxPooling (None, 30, 30, 16)        0         \n",
      "_________________________________________________________________\n",
      "flatten_4 (Flatten)          (None, 14400)             0         \n",
      "_________________________________________________________________\n",
      "dense_9 (Dense)              (None, 256)               3686656   \n",
      "_________________________________________________________________\n",
      "dense_10 (Dense)             (None, 128)               32896     \n",
      "_________________________________________________________________\n",
      "dense_11 (Dense)             (None, 64)                8256      \n",
      "_________________________________________________________________\n",
      "dense_12 (Dense)             (None, 1)                 65        \n",
      "_________________________________________________________________\n",
      "activation_6 (Activation)    (None, 1)                 0         \n",
      "=================================================================\n",
      "Total params: 3,752,753\n",
      "Trainable params: 3,752,753\n",
      "Non-trainable params: 0\n",
      "_________________________________________________________________\n"
     ]
    }
   ],
   "source": [
    "model2.summary()"
   ]
  },
  {
   "cell_type": "markdown",
   "metadata": {},
   "source": [
    "### Training the Model: Attempt 1"
   ]
  },
  {
   "cell_type": "code",
   "execution_count": 173,
   "metadata": {},
   "outputs": [
    {
     "name": "stdout",
     "output_type": "stream",
     "text": [
      "Found 3814 images belonging to 2 classes.\n",
      "238\n"
     ]
    }
   ],
   "source": [
    "batch_size = 16\n",
    "\n",
    "train_image_gen = image_gen.flow_from_directory('./data/simple/processed/train/',\n",
    "                                               target_size=image_shape[:2],\n",
    "                                               batch_size=batch_size,\n",
    "                                               class_mode='binary')\n",
    "\n",
    "epoch_step = len(train_image_gen.filenames)//batch_size\n",
    "print(epoch_step)"
   ]
  },
  {
   "cell_type": "code",
   "execution_count": 174,
   "metadata": {},
   "outputs": [
    {
     "name": "stdout",
     "output_type": "stream",
     "text": [
      "Found 954 images belonging to 2 classes.\n",
      "59\n"
     ]
    }
   ],
   "source": [
    "test_image_gen = image_gen.flow_from_directory('./data/simple/processed/test/',\n",
    "                                               target_size=image_shape[:2],\n",
    "                                               batch_size=batch_size,\n",
    "                                               class_mode='binary')\n",
    "\n",
    "valid_step = len(test_image_gen.filenames)//batch_size\n",
    "print(valid_step)"
   ]
  },
  {
   "cell_type": "code",
   "execution_count": 175,
   "metadata": {},
   "outputs": [
    {
     "data": {
      "text/plain": [
       "{'Contemporary': 0, 'Modern': 1}"
      ]
     },
     "execution_count": 175,
     "metadata": {},
     "output_type": "execute_result"
    }
   ],
   "source": [
    "train_image_gen.class_indices"
   ]
  },
  {
   "cell_type": "code",
   "execution_count": 176,
   "metadata": {
    "scrolled": true
   },
   "outputs": [
    {
     "data": {
      "text/plain": [
       "{'Contemporary': 0, 'Modern': 1}"
      ]
     },
     "execution_count": 176,
     "metadata": {},
     "output_type": "execute_result"
    }
   ],
   "source": [
    "test_image_gen.class_indices"
   ]
  },
  {
   "cell_type": "code",
   "execution_count": 177,
   "metadata": {
    "scrolled": true
   },
   "outputs": [
    {
     "name": "stdout",
     "output_type": "stream",
     "text": [
      "Epoch 1/30\n",
      "238/238 [==============================] - 70s 294ms/step - loss: 0.6955 - accuracy: 0.4992 - val_loss: 0.6933 - val_accuracy: 0.5021\n",
      "Epoch 2/30\n",
      "238/238 [==============================] - 71s 300ms/step - loss: 0.6934 - accuracy: 0.5011 - val_loss: 0.6930 - val_accuracy: 0.5043\n",
      "Epoch 3/30\n",
      "238/238 [==============================] - 72s 302ms/step - loss: 0.6933 - accuracy: 0.4961 - val_loss: 0.6916 - val_accuracy: 0.5021\n",
      "Epoch 4/30\n",
      "238/238 [==============================] - 71s 297ms/step - loss: 0.6935 - accuracy: 0.4958 - val_loss: 0.6935 - val_accuracy: 0.5107\n",
      "Epoch 5/30\n",
      "238/238 [==============================] - 70s 295ms/step - loss: 0.6934 - accuracy: 0.4934 - val_loss: 0.6952 - val_accuracy: 0.5021\n",
      "Epoch 6/30\n",
      "238/238 [==============================] - 70s 294ms/step - loss: 0.6933 - accuracy: 0.4974 - val_loss: 0.6903 - val_accuracy: 0.5011\n",
      "Epoch 7/30\n",
      "238/238 [==============================] - 70s 294ms/step - loss: 0.6932 - accuracy: 0.5018 - val_loss: 0.6886 - val_accuracy: 0.5032\n",
      "Epoch 8/30\n",
      "238/238 [==============================] - 69s 288ms/step - loss: 0.6933 - accuracy: 0.4850 - val_loss: 0.6932 - val_accuracy: 0.5075\n",
      "Epoch 9/30\n",
      "238/238 [==============================] - 69s 288ms/step - loss: 0.6931 - accuracy: 0.5079 - val_loss: 0.6947 - val_accuracy: 0.4989\n",
      "Epoch 10/30\n",
      "238/238 [==============================] - 68s 287ms/step - loss: 0.6933 - accuracy: 0.4997 - val_loss: 0.6938 - val_accuracy: 0.5096\n",
      "Epoch 11/30\n",
      "238/238 [==============================] - 68s 284ms/step - loss: 0.6931 - accuracy: 0.5050 - val_loss: 0.6904 - val_accuracy: 0.4957\n",
      "Epoch 12/30\n",
      "238/238 [==============================] - 68s 285ms/step - loss: 0.6932 - accuracy: 0.5024 - val_loss: 0.6920 - val_accuracy: 0.4947\n",
      "Epoch 13/30\n",
      "238/238 [==============================] - 67s 283ms/step - loss: 0.6933 - accuracy: 0.5037 - val_loss: 0.6896 - val_accuracy: 0.5107\n",
      "Epoch 14/30\n",
      "238/238 [==============================] - 67s 283ms/step - loss: 0.6932 - accuracy: 0.5047 - val_loss: 0.6899 - val_accuracy: 0.5000\n",
      "Epoch 15/30\n",
      "238/238 [==============================] - 68s 284ms/step - loss: 0.6932 - accuracy: 0.5016 - val_loss: 0.6921 - val_accuracy: 0.5117\n",
      "Epoch 16/30\n",
      "238/238 [==============================] - 69s 290ms/step - loss: 0.6932 - accuracy: 0.4947 - val_loss: 0.6950 - val_accuracy: 0.5032\n",
      "Epoch 17/30\n",
      "238/238 [==============================] - 69s 291ms/step - loss: 0.6932 - accuracy: 0.5042 - val_loss: 0.6947 - val_accuracy: 0.4936\n",
      "Epoch 18/30\n",
      "238/238 [==============================] - 69s 289ms/step - loss: 0.6932 - accuracy: 0.4997 - val_loss: 0.6904 - val_accuracy: 0.5107\n",
      "Epoch 19/30\n",
      "238/238 [==============================] - 70s 296ms/step - loss: 0.6932 - accuracy: 0.5050 - val_loss: 0.6932 - val_accuracy: 0.5032\n",
      "Epoch 20/30\n",
      "238/238 [==============================] - 70s 294ms/step - loss: 0.6932 - accuracy: 0.4982 - val_loss: 0.6942 - val_accuracy: 0.5000\n",
      "Epoch 21/30\n",
      "238/238 [==============================] - 70s 295ms/step - loss: 0.6932 - accuracy: 0.4961 - val_loss: 0.6918 - val_accuracy: 0.5011\n",
      "Epoch 22/30\n",
      "238/238 [==============================] - 72s 301ms/step - loss: 0.6932 - accuracy: 0.4979 - val_loss: 0.6919 - val_accuracy: 0.4936\n",
      "Epoch 23/30\n",
      "238/238 [==============================] - 70s 294ms/step - loss: 0.6932 - accuracy: 0.5018 - val_loss: 0.6941 - val_accuracy: 0.5053\n",
      "Epoch 24/30\n",
      "238/238 [==============================] - 70s 293ms/step - loss: 0.6932 - accuracy: 0.4953 - val_loss: 0.6952 - val_accuracy: 0.5075\n",
      "Epoch 25/30\n",
      "238/238 [==============================] - 70s 292ms/step - loss: 0.6932 - accuracy: 0.5018 - val_loss: 0.6951 - val_accuracy: 0.5160\n",
      "Epoch 26/30\n",
      "238/238 [==============================] - 70s 295ms/step - loss: 0.6931 - accuracy: 0.5076 - val_loss: 0.6932 - val_accuracy: 0.4851\n",
      "Epoch 27/30\n",
      "238/238 [==============================] - 73s 308ms/step - loss: 0.6932 - accuracy: 0.5045 - val_loss: 0.6901 - val_accuracy: 0.5053\n",
      "Epoch 28/30\n",
      "238/238 [==============================] - 71s 300ms/step - loss: 0.6933 - accuracy: 0.4982 - val_loss: 0.6936 - val_accuracy: 0.5181\n",
      "Epoch 29/30\n",
      "238/238 [==============================] - 71s 298ms/step - loss: 0.6931 - accuracy: 0.5084 - val_loss: 0.6946 - val_accuracy: 0.4936\n",
      "Epoch 30/30\n",
      "238/238 [==============================] - 70s 293ms/step - loss: 0.6932 - accuracy: 0.5018 - val_loss: 0.6941 - val_accuracy: 0.5256\n"
     ]
    }
   ],
   "source": [
    "results = model2.fit_generator(train_image_gen,epochs=30,\n",
    "                              steps_per_epoch=epoch_step,\n",
    "                              validation_data=test_image_gen,\n",
    "                              validation_steps=valid_step,\n",
    "                              verbose=1)"
   ]
  },
  {
   "cell_type": "code",
   "execution_count": 179,
   "metadata": {
    "scrolled": true
   },
   "outputs": [
    {
     "data": {
      "image/png": "[encoded data removed]",
      "text/plain": [
       "<Figure size 432x288 with 1 Axes>"
      ]
     },
     "metadata": {
      "needs_background": "light"
     },
     "output_type": "display_data"
    }
   ],
   "source": [
    "plt.plot(results.history['accuracy'])\n",
    "plt.xlabel('Epoch')\n",
    "plt.ylabel('Accuracy');"
   ]
  },
  {
   "cell_type": "code",
   "execution_count": null,
   "metadata": {},
   "outputs": [],
   "source": []
  }
 ],
 "metadata": {
  "kernelspec": {
   "display_name": "Python 3",
   "language": "python",
   "name": "python3"
  },
  "language_info": {
   "codemirror_mode": {
    "name": "ipython",
    "version": 3
   },
   "file_extension": ".py",
   "mimetype": "text/x-python",
   "name": "python",
   "nbconvert_exporter": "python",
   "pygments_lexer": "ipython3",
   "version": "3.7.7"
  }
 },
 "nbformat": 4,
 "nbformat_minor": 4
}
